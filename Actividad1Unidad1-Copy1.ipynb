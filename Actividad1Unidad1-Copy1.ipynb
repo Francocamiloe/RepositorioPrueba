{
 "cells": [
  {
   "cell_type": "markdown",
   "metadata": {},
   "source": [
    "# Listado de Ejercicios a realizar"
   ]
  },
  {
   "cell_type": "code",
   "execution_count": null,
   "metadata": {},
   "outputs": [],
   "source": []
  },
  {
   "cell_type": "markdown",
   "metadata": {},
   "source": [
    "## 1. Sin usar el computador, evalúe las siguientes expresiones, y para cada una de ellas indique el resultado y su tipo (si la expresión es válida) o qué error ocurre:\n",
    "\n",
    "### Ejemplo\n",
    "- 2 + 3      # Respuesta: tipo int, valor 5\n",
    "- 4 / 0      # Respuesta: error de división por cero\n",
    "\n",
    "### Ejercicio\n",
    "\n",
    "- 5 + 3 * 4\n",
    "- '5' + '3' * 2\n",
    "- 2 ** 11 == 1000 or 2 ** 9 == 100\n",
    "- int(\"cincuenta\")\n",
    "- 16/16 + 384/24\n",
    "- 600 + 18%\n",
    "- 0 < (4096 % 10) < 6\n",
    "- 'Max' + 'Min'\n",
    "- ABC() * DEF()\n",
    "- float(-int('7') + int('90'))\n",
    "- abs(len('seis') - len('tres'))\n",
    "- bool(1210) or bool(-3465) \n",
    "- float(str(int('8' * 3) / 3)[3])"
   ]
  },
  {
   "cell_type": "code",
   "execution_count": null,
   "metadata": {},
   "outputs": [],
   "source": [
    "5 + 3 * 4 # Respuesta: tipo int, valor \n",
    "'5' + '3' * 2 # Respuesta: tipo str, valor '533'\n",
    "2 ** 11 == 1000 or 2 ** 9 == 100 # Respuesta:Falso\n",
    "int(\"cincuenta\")  #Respuesta: ERROR, un string no se puede volver nuero entero\n",
    "16/16 + 384/24   # Respuesta: tipo float\n",
    "600 + 18% # Respuesta: error syntax\n",
    "0 < (4096 % 10) < 6 # Respuesta: falso\n",
    "'Max' + 'Min'# Respuesta: tipo strig valor MAxMin\n",
    "ABC() * DEF()# Respuesta: Error no hay valores definidos\n",
    "float(-int('7') + int('90'))# Respuesta:float valor 83.0\n",
    "abs(len('seis') - len('tres'))# Respuesta: valor absoluto de 0 \n",
    "bool(1210) or bool(-3465)# Respuesta: falso\n",
    "float(str(int('8' * 3) / 3)[3])# Respuesta:error syntax no se puede convertir un str en un numero\n"
   ]
  },
  {
   "cell_type": "markdown",
   "metadata": {},
   "source": [
    "# 2. Imprima su nombre y fecha\n",
    "- Imprime: Jorge Alvarez - 20-04-2020"
   ]
  },
  {
   "cell_type": "code",
   "execution_count": 4,
   "metadata": {},
   "outputs": [
    {
     "name": "stdout",
     "output_type": "stream",
     "text": [
      "CAMILO FRANCO 20-04-2020\n"
     ]
    }
   ],
   "source": [
    " Respuesta:print('CAMILO FRANCO', '20-04-2020')\n"
   ]
  },
  {
   "cell_type": "markdown",
   "metadata": {},
   "source": [
    "# 3. Solicite un nombre y que el programa salude\n",
    "### Ejemplo:\n",
    "- ingreso: 'Andres'\n",
    "- imprime: 'Hola Andres'"
   ]
  },
  {
   "cell_type": "code",
   "execution_count": 6,
   "metadata": {},
   "outputs": [
    {
     "name": "stdout",
     "output_type": "stream",
     "text": [
      "ingrese su nombre camilo franco\n",
      "hola camilo franco\n"
     ]
    }
   ],
   "source": [
    "nombre=input('ingrese su nombre ')\n",
    "print ('hola '+ nombre)\n",
    "    \n",
    "  \n"
   ]
  },
  {
   "cell_type": "markdown",
   "metadata": {},
   "source": [
    "# 4. Solicite el radio (un numero) de un círculo e imprima como salida su diámetro, perímetro y su área\n",
    "# Ejemplo\n",
    "- ingreso: 3 \n",
    "- imprime - Diametro: 6\n",
    "- imprime - Perimetro: 18.84\n",
    "- imprime - Area: 28.27"
   ]
  },
  {
   "cell_type": "code",
   "execution_count": null,
   "metadata": {},
   "outputs": [],
   "source": [
    "#radio\n",
    "r = float(input('escriba el radio del circulo'))\n",
    "#definimos pi\n",
    "pi= 3.1416\n",
    "#area\n",
    "A = (pi*(r**2))\n",
    "#diametro\n",
    "D = r*2\n",
    "#perimetro\n",
    "P = 2*pi*r\n",
    "print('el area del circulo es: '+ str(A))\n",
    "print('el diametro del circulo es: '+ str(D))\n",
    "print('el perimetro del circulo es: '+ str(P))"
   ]
  },
  {
   "cell_type": "markdown",
   "metadata": {},
   "source": [
    "# 5. Solicite 6 notas y calcule el promedio de ellas\n",
    "### Ejemplo\n",
    "- ingreso: 1 2 3 4 5 6\n",
    "- imprime: 3.5"
   ]
  },
  {
   "cell_type": "code",
   "execution_count": 40,
   "metadata": {},
   "outputs": [
    {
     "name": "stdout",
     "output_type": "stream",
     "text": [
      "Ingrese su nota 1\n",
      "Ingrese su nota 2\n",
      "Ingrese su nota 3\n",
      "Ingrese su nota 4\n",
      "Ingrese su nota 5\n",
      "Ingrese su nota 6\n",
      "3.5\n"
     ]
    }
   ],
   "source": [
    "lista = []\n",
    "for i in range(6):\n",
    "    nota = float(input(\"Ingrese su nota \"))\n",
    "    lista.append(nota)\n",
    "promedio = sum(lista)/len(lista)\n",
    "print(promedio)"
   ]
  },
  {
   "cell_type": "markdown",
   "metadata": {},
   "source": [
    "# 6. Solicite un valor e imprima que tipo de dato es\n",
    "### Ejemplo\n",
    "- ingreso: 'A'\n",
    "- imprime: str\n",
    "- ingreso: 1\n",
    "- imprime: int"
   ]
  },
  {
   "cell_type": "code",
   "execution_count": 12,
   "metadata": {},
   "outputs": [
    {
     "name": "stdout",
     "output_type": "stream",
     "text": [
      "ingrese valor 1: a\n",
      "<class 'str'>\n",
      "ingrese valor 2: 1\n",
      "<class 'int'>\n"
     ]
    }
   ],
   "source": [
    "x=str(input(\"ingrese valor 1: \"))\n",
    "print(type(x,))\n",
    "y=int(input(\"ingrese valor 2: \"))    \n",
    "print(type(y,))\n"
   ]
  },
  {
   "cell_type": "markdown",
   "metadata": {},
   "source": [
    "# 7. Escriba en código la siguiente ecuación\n",
    "$$ \\left(\\frac{5+3}{3-2}\\right)^2$$"
   ]
  },
  {
   "cell_type": "code",
   "execution_count": 7,
   "metadata": {},
   "outputs": [
    {
     "name": "stdout",
     "output_type": "stream",
     "text": [
      "64.0\n"
     ]
    }
   ],
   "source": [
    "x=((5+3)/(3-2))**2\n",
    "\n",
    "print(x)\n"
   ]
  },
  {
   "cell_type": "markdown",
   "metadata": {},
   "source": [
    "# 8. Solicite número de horas trabajadas y coste por horas e imprima el valor\n",
    "### Ejemplo:\n",
    "- Ingreso: 4 (horas)\n",
    "- ingreso: 80.000 (precio x hora)\n",
    "- imprime: 320.000"
   ]
  },
  {
   "cell_type": "code",
   "execution_count": 23,
   "metadata": {},
   "outputs": [
    {
     "name": "stdout",
     "output_type": "stream",
     "text": [
      "Digite numero de horas4\n",
      "precio por hora80000\n",
      "320000 dolares\n"
     ]
    }
   ],
   "source": [
    "h=int(input(\"Digite numero de horas\"))\n",
    "p= int(input(\"precio por hora\"))\n",
    "s=h*p\n",
    "print(str(s)+' dolares')"
   ]
  },
  {
   "cell_type": "markdown",
   "metadata": {},
   "source": [
    "# 9. Solicite la temperatura en grados Celsius e imprima en grados Kelvin y Fahrenheit \n",
    "### Ejemplo:\n",
    "- ingreso: 38 (°C)\n",
    "- imprime: 311.15 °K\n",
    "- imprime: 100.4 °F"
   ]
  },
  {
   "cell_type": "code",
   "execution_count": 55,
   "metadata": {},
   "outputs": [
    {
     "name": "stdout",
     "output_type": "stream",
     "text": [
      "ingrese grados a convertir: 38\n",
      "38 grados celcius equivale a 100.4 grados fahrenheir y a  311.15  grados kevil\n"
     ]
    }
   ],
   "source": [
    "C = int(input('ingrese grados a convertir: '))\n",
    "F = C*9/5+32\n",
    "K = C + 273.15\n",
    "print(C, \"grados celcius equivale a\" , F , 'grados fahrenheir y a ', K , ' grados kevil' )\n"
   ]
  },
  {
   "cell_type": "markdown",
   "metadata": {},
   "source": [
    "# 10. Solicite 2 numeros e imprima si el segundo es mayor  \n",
    "### Ejemplo:\n",
    "- ingreso: 2\n",
    "- ingreso: 3\n",
    "- impmrime: True"
   ]
  },
  {
   "cell_type": "code",
   "execution_count": 3,
   "metadata": {},
   "outputs": [
    {
     "name": "stdout",
     "output_type": "stream",
     "text": [
      "Ingrese numero 3\n",
      "Ingrese numero 2\n",
      "false\n"
     ]
    }
   ],
   "source": [
    "lista = []\n",
    "for i in range(2):\n",
    "    numero= float(input(\"Ingrese numero \"))\n",
    "    lista.append(numero)\n",
    "    \n",
    "if lista[0]<lista[1]:\n",
    "    print(\"true\")\n",
    "else:\n",
    "    print('false')"
   ]
  },
  {
   "cell_type": "markdown",
   "metadata": {},
   "source": [
    "# 11. Solicite 2 numeros e imprima si el segundo es menor  \n",
    "### Ejemplo:\n",
    "- ingreso: 2\n",
    "- ingreso: 3\n",
    "- impmrime: False"
   ]
  },
  {
   "cell_type": "code",
   "execution_count": 1,
   "metadata": {},
   "outputs": [
    {
     "name": "stdout",
     "output_type": "stream",
     "text": [
      "Ingrese numero 2\n",
      "ingrese numero 3\n",
      "false\n"
     ]
    }
   ],
   "source": [
    "numero1= float(input(\"Ingrese numero \"))\n",
    "numero2= float(input(\"ingrese numero \"))\n",
    "if numero1<numero2:\n",
    "    print('false')\n",
    "else:\n",
    "    print(\"true\")"
   ]
  },
  {
   "cell_type": "markdown",
   "metadata": {},
   "source": [
    "# 12. Solicite una distancia (metros) y la velocidad (metros/segundos) e imprima el tiempo que se demora el recorrido\n",
    "### Ejemplo:\n",
    "- ingreso: 150 (metros)\n",
    "- ingreso: 15 (metros/segundo)\n",
    "- Imprime: 10 segundos"
   ]
  },
  {
   "cell_type": "code",
   "execution_count": 22,
   "metadata": {},
   "outputs": [
    {
     "name": "stdout",
     "output_type": "stream",
     "text": [
      "ingrese distancia en metros  150\n",
      "ingrese velocidad  15\n",
      "10.0 segundos\n"
     ]
    }
   ],
   "source": [
    "m=int(input(\"ingrese distancia en metros  \"))\n",
    "v=int(input(\"ingrese velocidad  \"))\n",
    "t=m/v\n",
    "print(str(t)+' segundos')\n"
   ]
  },
  {
   "cell_type": "markdown",
   "metadata": {},
   "source": [
    "# 13. Solicite al usuario tres valores y escriba en código la siguiente ecuación\n",
    "$$ \\left(\\frac{a+b}{c}\\right) ^2 + \\left(\\frac{a-b}{c}\\right) ^ 2 $$"
   ]
  },
  {
   "cell_type": "code",
   "execution_count": null,
   "metadata": {},
   "outputs": [],
   "source": [
    "#intruccion de datos\n",
    "a=int(input(\"introduzca el valor de a: \"))\n",
    "b=int(input(\"introduzca el valor de b: \"))\n",
    "c=int(input(\"introduzca el valor de c: \"))\n",
    "#exprecion de la ecuacion en codigo\n",
    "x=(((a+b)-c)**2)+(((a-b)/c)**2)\n",
    "\n",
    "print(x)"
   ]
  },
  {
   "cell_type": "markdown",
   "metadata": {},
   "source": [
    "# 14. Investigue como se saca la raíz cuadrada de un número en Python y escriba la solución en el cuadro de abajo"
   ]
  },
  {
   "cell_type": "code",
   "execution_count": 26,
   "metadata": {},
   "outputs": [
    {
     "name": "stdout",
     "output_type": "stream",
     "text": [
      "4.0\n"
     ]
    }
   ],
   "source": [
    "#se impota libreria\n",
    "import math\n",
    "\n",
    "x=16\n",
    "#metodo .sqrt funcion para sacar raiz cuadrada\n",
    "y=math.sqrt(x)\n",
    "print(y)\n"
   ]
  },
  {
   "cell_type": "markdown",
   "metadata": {},
   "source": [
    "# 15.  Con lo anterior solicite 2 numeros (Cateto a y Cateto b) e imprima la hipotenusa.\n",
    "### Ejemplo:\n",
    "- ingreso: 3 (Cateto a)\n",
    "- ingreso: 4 (Cateto b)\n",
    "- imprime: Hipotenusa = 5"
   ]
  },
  {
   "cell_type": "code",
   "execution_count": 1,
   "metadata": {},
   "outputs": [
    {
     "name": "stdout",
     "output_type": "stream",
     "text": [
      "ingrese cateto a: 3\n",
      "ingrese cateto b: 4\n",
      " la hipotenusa es:  5.0\n"
     ]
    }
   ],
   "source": [
    "# se importa libreria\n",
    "import math\n",
    "\n",
    "catetoa=float(input(\"ingrese cateto a: \"))\n",
    "catetob=float(input(\"ingrese cateto b: \"))\n",
    "#metodo .sqrt\n",
    "hipotenusa = math.sqrt(catetoa**2 + catetob**2)\n",
    "\n",
    "print(\" la hipotenusa es: \", hipotenusa)"
   ]
  },
  {
   "cell_type": "code",
   "execution_count": null,
   "metadata": {},
   "outputs": [],
   "source": []
  }
 ],
 "metadata": {
  "kernelspec": {
   "display_name": "Python 3",
   "language": "python",
   "name": "python3"
  },
  "language_info": {
   "codemirror_mode": {
    "name": "ipython",
    "version": 3
   },
   "file_extension": ".py",
   "mimetype": "text/x-python",
   "name": "python",
   "nbconvert_exporter": "python",
   "pygments_lexer": "ipython3",
   "version": "3.8.8"
  }
 },
 "nbformat": 4,
 "nbformat_minor": 2
}
